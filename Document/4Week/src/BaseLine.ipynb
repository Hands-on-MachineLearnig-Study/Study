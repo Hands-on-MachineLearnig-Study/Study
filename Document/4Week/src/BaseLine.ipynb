{
 "cells": [
  {
   "cell_type": "code",
   "execution_count": 9,
   "metadata": {},
   "outputs": [],
   "source": [
    "import numpy as np"
   ]
  },
  {
   "cell_type": "code",
   "execution_count": 10,
   "metadata": {},
   "outputs": [],
   "source": [
    "import pandas as pd\n",
    "mnist = pd.read_csv(\"/Users/yangdongjae/Desktop/2021/ExternalActivities/MachineLearning_Study/Document/3Week(MINIST)/dt/mnist_784.csv\")"
   ]
  },
  {
   "cell_type": "code",
   "execution_count": 11,
   "metadata": {},
   "outputs": [],
   "source": [
    "X = mnist.iloc[:,:784]\n",
    "y = mnist[\"class\"]"
   ]
  },
  {
   "cell_type": "code",
   "execution_count": 12,
   "metadata": {},
   "outputs": [],
   "source": [
    "from sklearn.model_selection import train_test_split\n",
    "0.33\n",
    "X_train , X_test , y_train, y_test = train_test_split(X,y,test_size =0.33, random_state = 42 )"
   ]
  },
  {
   "cell_type": "code",
   "execution_count": 13,
   "metadata": {},
   "outputs": [],
   "source": [
    "from sklearn.linear_model import SGDClassifier\n",
    "\n",
    "sgd_clf = SGDClassifier(max_iter = 5 , random_state = 42)"
   ]
  },
  {
   "cell_type": "code",
   "execution_count": 14,
   "metadata": {},
   "outputs": [
    {
     "name": "stderr",
     "output_type": "stream",
     "text": [
      "/Users/yangdongjae/opt/anaconda3/lib/python3.7/site-packages/sklearn/linear_model/stochastic_gradient.py:561: ConvergenceWarning: Maximum number of iteration reached before convergence. Consider increasing max_iter to improve the fit.\n",
      "  ConvergenceWarning)\n"
     ]
    },
    {
     "data": {
      "text/plain": [
       "SGDClassifier(alpha=0.0001, average=False, class_weight=None,\n",
       "              early_stopping=False, epsilon=0.1, eta0=0.0, fit_intercept=True,\n",
       "              l1_ratio=0.15, learning_rate='optimal', loss='hinge', max_iter=5,\n",
       "              n_iter_no_change=5, n_jobs=None, penalty='l2', power_t=0.5,\n",
       "              random_state=42, shuffle=True, tol=0.001, validation_fraction=0.1,\n",
       "              verbose=0, warm_start=False)"
      ]
     },
     "execution_count": 14,
     "metadata": {},
     "output_type": "execute_result"
    }
   ],
   "source": [
    "sgd_clf.fit(X_train, y_train)"
   ]
  },
  {
   "cell_type": "code",
   "execution_count": 15,
   "metadata": {},
   "outputs": [
    {
     "data": {
      "text/plain": [
       "array([2])"
      ]
     },
     "execution_count": 15,
     "metadata": {},
     "output_type": "execute_result"
    }
   ],
   "source": [
    "sgd_clf.predict([np.array(X.iloc[2314])])"
   ]
  },
  {
   "cell_type": "code",
   "execution_count": 16,
   "metadata": {},
   "outputs": [],
   "source": [
    "scores = sgd_clf.decision_function([np.array(X.iloc[2314])])"
   ]
  },
  {
   "cell_type": "code",
   "execution_count": 17,
   "metadata": {},
   "outputs": [
    {
     "data": {
      "text/plain": [
       "array([[ -533887.08819379, -1035083.64794186,   383886.01861474,\n",
       "         -390147.18547082,  -301046.6602235 ,  -539821.04392689,\n",
       "         -337936.66857893, -1038228.08123597,  -421144.755548  ,\n",
       "         -765392.10659447]])"
      ]
     },
     "execution_count": 17,
     "metadata": {},
     "output_type": "execute_result"
    }
   ],
   "source": [
    "scores"
   ]
  },
  {
   "cell_type": "code",
   "execution_count": 18,
   "metadata": {},
   "outputs": [
    {
     "data": {
      "text/plain": [
       "2"
      ]
     },
     "execution_count": 18,
     "metadata": {},
     "output_type": "execute_result"
    }
   ],
   "source": [
    "np.argmax(scores)"
   ]
  },
  {
   "cell_type": "code",
   "execution_count": 19,
   "metadata": {},
   "outputs": [
    {
     "data": {
      "text/plain": [
       "array([0, 1, 2, 3, 4, 5, 6, 7, 8, 9])"
      ]
     },
     "execution_count": 19,
     "metadata": {},
     "output_type": "execute_result"
    }
   ],
   "source": [
    "sgd_clf.classes_"
   ]
  },
  {
   "cell_type": "code",
   "execution_count": 20,
   "metadata": {},
   "outputs": [
    {
     "data": {
      "text/plain": [
       "5"
      ]
     },
     "execution_count": 20,
     "metadata": {},
     "output_type": "execute_result"
    }
   ],
   "source": [
    "sgd_clf.classes_[5]"
   ]
  },
  {
   "cell_type": "code",
   "execution_count": 21,
   "metadata": {},
   "outputs": [
    {
     "name": "stderr",
     "output_type": "stream",
     "text": [
      "/Users/yangdongjae/opt/anaconda3/lib/python3.7/site-packages/sklearn/linear_model/stochastic_gradient.py:561: ConvergenceWarning: Maximum number of iteration reached before convergence. Consider increasing max_iter to improve the fit.\n",
      "  ConvergenceWarning)\n",
      "/Users/yangdongjae/opt/anaconda3/lib/python3.7/site-packages/sklearn/linear_model/stochastic_gradient.py:561: ConvergenceWarning: Maximum number of iteration reached before convergence. Consider increasing max_iter to improve the fit.\n",
      "  ConvergenceWarning)\n",
      "/Users/yangdongjae/opt/anaconda3/lib/python3.7/site-packages/sklearn/linear_model/stochastic_gradient.py:561: ConvergenceWarning: Maximum number of iteration reached before convergence. Consider increasing max_iter to improve the fit.\n",
      "  ConvergenceWarning)\n",
      "/Users/yangdongjae/opt/anaconda3/lib/python3.7/site-packages/sklearn/linear_model/stochastic_gradient.py:561: ConvergenceWarning: Maximum number of iteration reached before convergence. Consider increasing max_iter to improve the fit.\n",
      "  ConvergenceWarning)\n",
      "/Users/yangdongjae/opt/anaconda3/lib/python3.7/site-packages/sklearn/linear_model/stochastic_gradient.py:561: ConvergenceWarning: Maximum number of iteration reached before convergence. Consider increasing max_iter to improve the fit.\n",
      "  ConvergenceWarning)\n",
      "/Users/yangdongjae/opt/anaconda3/lib/python3.7/site-packages/sklearn/linear_model/stochastic_gradient.py:561: ConvergenceWarning: Maximum number of iteration reached before convergence. Consider increasing max_iter to improve the fit.\n",
      "  ConvergenceWarning)\n",
      "/Users/yangdongjae/opt/anaconda3/lib/python3.7/site-packages/sklearn/linear_model/stochastic_gradient.py:561: ConvergenceWarning: Maximum number of iteration reached before convergence. Consider increasing max_iter to improve the fit.\n",
      "  ConvergenceWarning)\n",
      "/Users/yangdongjae/opt/anaconda3/lib/python3.7/site-packages/sklearn/linear_model/stochastic_gradient.py:561: ConvergenceWarning: Maximum number of iteration reached before convergence. Consider increasing max_iter to improve the fit.\n",
      "  ConvergenceWarning)\n",
      "/Users/yangdongjae/opt/anaconda3/lib/python3.7/site-packages/sklearn/linear_model/stochastic_gradient.py:561: ConvergenceWarning: Maximum number of iteration reached before convergence. Consider increasing max_iter to improve the fit.\n",
      "  ConvergenceWarning)\n",
      "/Users/yangdongjae/opt/anaconda3/lib/python3.7/site-packages/sklearn/linear_model/stochastic_gradient.py:561: ConvergenceWarning: Maximum number of iteration reached before convergence. Consider increasing max_iter to improve the fit.\n",
      "  ConvergenceWarning)\n"
     ]
    },
    {
     "data": {
      "text/plain": [
       "OneVsRestClassifier(estimator=SGDClassifier(alpha=0.0001, average=False,\n",
       "                                            class_weight=None,\n",
       "                                            early_stopping=False, epsilon=0.1,\n",
       "                                            eta0=0.0, fit_intercept=True,\n",
       "                                            l1_ratio=0.15,\n",
       "                                            learning_rate='optimal',\n",
       "                                            loss='hinge', max_iter=5,\n",
       "                                            n_iter_no_change=5, n_jobs=None,\n",
       "                                            penalty='l2', power_t=0.5,\n",
       "                                            random_state=42, shuffle=True,\n",
       "                                            tol=0.001, validation_fraction=0.1,\n",
       "                                            verbose=0, warm_start=False),\n",
       "                    n_jobs=None)"
      ]
     },
     "execution_count": 21,
     "metadata": {},
     "output_type": "execute_result"
    }
   ],
   "source": [
    "from sklearn.multiclass import OneVsRestClassifier\n",
    "\n",
    "ovo_clf = OneVsRestClassifier(SGDClassifier(max_iter = 5 , random_state = 42))\n",
    "ovo_clf.fit(X_train, y_train)"
   ]
  },
  {
   "cell_type": "code",
   "execution_count": 22,
   "metadata": {},
   "outputs": [],
   "source": [
    "import random as rd"
   ]
  },
  {
   "cell_type": "code",
   "execution_count": 23,
   "metadata": {},
   "outputs": [
    {
     "data": {
      "text/plain": [
       "array([5])"
      ]
     },
     "execution_count": 23,
     "metadata": {},
     "output_type": "execute_result"
    }
   ],
   "source": [
    "ovo_clf.predict([np.array(X_test.iloc[rd.randint(0,23100)])])"
   ]
  },
  {
   "cell_type": "code",
   "execution_count": 24,
   "metadata": {},
   "outputs": [
    {
     "data": {
      "text/plain": [
       "10"
      ]
     },
     "execution_count": 24,
     "metadata": {},
     "output_type": "execute_result"
    }
   ],
   "source": [
    "len(ovo_clf.estimators_)"
   ]
  },
  {
   "cell_type": "code",
   "execution_count": 25,
   "metadata": {},
   "outputs": [],
   "source": [
    "from sklearn.ensemble import RandomForestClassifier\n",
    "\n",
    "forest_clf = RandomForestClassifier()"
   ]
  },
  {
   "cell_type": "code",
   "execution_count": 26,
   "metadata": {},
   "outputs": [
    {
     "name": "stderr",
     "output_type": "stream",
     "text": [
      "/Users/yangdongjae/opt/anaconda3/lib/python3.7/site-packages/sklearn/ensemble/forest.py:245: FutureWarning: The default value of n_estimators will change from 10 in version 0.20 to 100 in 0.22.\n",
      "  \"10 in version 0.20 to 100 in 0.22.\", FutureWarning)\n"
     ]
    },
    {
     "data": {
      "text/plain": [
       "RandomForestClassifier(bootstrap=True, class_weight=None, criterion='gini',\n",
       "                       max_depth=None, max_features='auto', max_leaf_nodes=None,\n",
       "                       min_impurity_decrease=0.0, min_impurity_split=None,\n",
       "                       min_samples_leaf=1, min_samples_split=2,\n",
       "                       min_weight_fraction_leaf=0.0, n_estimators=10,\n",
       "                       n_jobs=None, oob_score=False, random_state=None,\n",
       "                       verbose=0, warm_start=False)"
      ]
     },
     "execution_count": 26,
     "metadata": {},
     "output_type": "execute_result"
    }
   ],
   "source": [
    "forest_clf.fit(X_train,y_train)"
   ]
  },
  {
   "cell_type": "code",
   "execution_count": 27,
   "metadata": {},
   "outputs": [
    {
     "data": {
      "text/plain": [
       "array([9])"
      ]
     },
     "execution_count": 27,
     "metadata": {},
     "output_type": "execute_result"
    }
   ],
   "source": [
    "forest_clf.predict([np.array(X_test.iloc[rd.randint(0,23100)])])"
   ]
  },
  {
   "cell_type": "code",
   "execution_count": 28,
   "metadata": {},
   "outputs": [
    {
     "data": {
      "text/plain": [
       "array([[0. , 0. , 0.1, 0. , 0. , 0.7, 0. , 0. , 0. , 0.2]])"
      ]
     },
     "execution_count": 28,
     "metadata": {},
     "output_type": "execute_result"
    }
   ],
   "source": [
    "forest_clf.predict_proba([np.array(X_test.iloc[rd.randint(0,23100)])])"
   ]
  },
  {
   "cell_type": "code",
   "execution_count": 29,
   "metadata": {},
   "outputs": [],
   "source": [
    "from sklearn.model_selection import cross_val_score"
   ]
  },
  {
   "cell_type": "code",
   "execution_count": 30,
   "metadata": {},
   "outputs": [
    {
     "name": "stderr",
     "output_type": "stream",
     "text": [
      "/Users/yangdongjae/opt/anaconda3/lib/python3.7/site-packages/sklearn/linear_model/stochastic_gradient.py:561: ConvergenceWarning: Maximum number of iteration reached before convergence. Consider increasing max_iter to improve the fit.\n",
      "  ConvergenceWarning)\n",
      "/Users/yangdongjae/opt/anaconda3/lib/python3.7/site-packages/sklearn/linear_model/stochastic_gradient.py:561: ConvergenceWarning: Maximum number of iteration reached before convergence. Consider increasing max_iter to improve the fit.\n",
      "  ConvergenceWarning)\n",
      "/Users/yangdongjae/opt/anaconda3/lib/python3.7/site-packages/sklearn/linear_model/stochastic_gradient.py:561: ConvergenceWarning: Maximum number of iteration reached before convergence. Consider increasing max_iter to improve the fit.\n",
      "  ConvergenceWarning)\n"
     ]
    },
    {
     "data": {
      "text/plain": [
       "array([0.85789204, 0.88031728, 0.8627727 ])"
      ]
     },
     "execution_count": 30,
     "metadata": {},
     "output_type": "execute_result"
    }
   ],
   "source": [
    "cross_val_score(sgd_clf, X_train, y_train , cv = 3, scoring = \"accuracy\")"
   ]
  },
  {
   "cell_type": "code",
   "execution_count": 31,
   "metadata": {},
   "outputs": [],
   "source": [
    "from sklearn.preprocessing import StandardScaler"
   ]
  },
  {
   "cell_type": "code",
   "execution_count": 32,
   "metadata": {},
   "outputs": [],
   "source": [
    "scaler = StandardScaler()"
   ]
  },
  {
   "cell_type": "code",
   "execution_count": 33,
   "metadata": {},
   "outputs": [],
   "source": [
    "X_train_scaled = scaler.fit_transform(X_train.astype(np.float64))"
   ]
  },
  {
   "cell_type": "code",
   "execution_count": 34,
   "metadata": {},
   "outputs": [
    {
     "name": "stderr",
     "output_type": "stream",
     "text": [
      "/Users/yangdongjae/opt/anaconda3/lib/python3.7/site-packages/sklearn/linear_model/stochastic_gradient.py:561: ConvergenceWarning: Maximum number of iteration reached before convergence. Consider increasing max_iter to improve the fit.\n",
      "  ConvergenceWarning)\n",
      "/Users/yangdongjae/opt/anaconda3/lib/python3.7/site-packages/sklearn/linear_model/stochastic_gradient.py:561: ConvergenceWarning: Maximum number of iteration reached before convergence. Consider increasing max_iter to improve the fit.\n",
      "  ConvergenceWarning)\n",
      "/Users/yangdongjae/opt/anaconda3/lib/python3.7/site-packages/sklearn/linear_model/stochastic_gradient.py:561: ConvergenceWarning: Maximum number of iteration reached before convergence. Consider increasing max_iter to improve the fit.\n",
      "  ConvergenceWarning)\n"
     ]
    },
    {
     "data": {
      "text/plain": [
       "array([0.90790483, 0.90897461, 0.9083232 ])"
      ]
     },
     "execution_count": 34,
     "metadata": {},
     "output_type": "execute_result"
    }
   ],
   "source": [
    "cross_val_score(sgd_clf, X_train_scaled, y_train, cv = 3, scoring = \"accuracy\")"
   ]
  },
  {
   "cell_type": "code",
   "execution_count": 35,
   "metadata": {},
   "outputs": [],
   "source": [
    "from sklearn.model_selection import cross_val_predict"
   ]
  },
  {
   "cell_type": "code",
   "execution_count": 36,
   "metadata": {},
   "outputs": [
    {
     "name": "stderr",
     "output_type": "stream",
     "text": [
      "/Users/yangdongjae/opt/anaconda3/lib/python3.7/site-packages/sklearn/linear_model/stochastic_gradient.py:561: ConvergenceWarning: Maximum number of iteration reached before convergence. Consider increasing max_iter to improve the fit.\n",
      "  ConvergenceWarning)\n",
      "/Users/yangdongjae/opt/anaconda3/lib/python3.7/site-packages/sklearn/linear_model/stochastic_gradient.py:561: ConvergenceWarning: Maximum number of iteration reached before convergence. Consider increasing max_iter to improve the fit.\n",
      "  ConvergenceWarning)\n",
      "/Users/yangdongjae/opt/anaconda3/lib/python3.7/site-packages/sklearn/linear_model/stochastic_gradient.py:561: ConvergenceWarning: Maximum number of iteration reached before convergence. Consider increasing max_iter to improve the fit.\n",
      "  ConvergenceWarning)\n"
     ]
    }
   ],
   "source": [
    "y_train_pred = cross_val_predict(sgd_clf, X_train_scaled, y_train, cv = 3)"
   ]
  },
  {
   "cell_type": "code",
   "execution_count": 37,
   "metadata": {},
   "outputs": [],
   "source": [
    "from sklearn.metrics import confusion_matrix"
   ]
  },
  {
   "cell_type": "code",
   "execution_count": 38,
   "metadata": {},
   "outputs": [
    {
     "data": {
      "text/plain": [
       "array([[4501,    2,   20,   11,    6,   34,   32,    5,   23,    2],\n",
       "       [   2, 5078,   38,   15,    3,   29,    9,    8,   83,    9],\n",
       "       [  50,   23, 4140,   72,   74,   18,   66,   53,  134,   10],\n",
       "       [  34,   28,  103, 4164,    3,  183,   25,   45,  100,   73],\n",
       "       [  14,   28,   26,    3, 4301,    6,   46,   32,   58,  166],\n",
       "       [  56,   35,   21,  125,   53, 3582,   99,   28,  138,   69],\n",
       "       [  34,   23,   32,    0,   35,   73, 4334,    6,   45,    0],\n",
       "       [  21,   24,   55,   23,   36,    5,    5, 4465,   13,  191],\n",
       "       [  35,  128,   76,  123,   11,  141,   45,   18, 3929,  123],\n",
       "       [  34,   31,   15,   70,  155,   37,    2,  143,   60, 4110]])"
      ]
     },
     "execution_count": 38,
     "metadata": {},
     "output_type": "execute_result"
    }
   ],
   "source": [
    "conf_mx = confusion_matrix(y_train, y_train_pred)\n",
    "conf_mx"
   ]
  },
  {
   "cell_type": "code",
   "execution_count": 39,
   "metadata": {},
   "outputs": [],
   "source": [
    "import matplotlib \n",
    "import matplotlib.pyplot as plt"
   ]
  },
  {
   "cell_type": "code",
   "execution_count": 40,
   "metadata": {},
   "outputs": [
    {
     "data": {
      "image/png": "[encoded data removed]",
      "text/plain": [
       "<Figure size 288x288 with 1 Axes>"
      ]
     },
     "metadata": {
      "needs_background": "light"
     },
     "output_type": "display_data"
    }
   ],
   "source": [
    "plt.matshow(conf_mx, cmap = plt.cm.gray)\n",
    "plt.show()"
   ]
  },
  {
   "cell_type": "code",
   "execution_count": 41,
   "metadata": {},
   "outputs": [],
   "source": [
    "row_sums = conf_mx.sum(axis= 1, keepdims = True)\n",
    "norm_conf_mx = conf_mx / row_sums\n"
   ]
  },
  {
   "cell_type": "code",
   "execution_count": 42,
   "metadata": {},
   "outputs": [
    {
     "data": {
      "text/plain": [
       "array([[4501,    2,   20,   11,    6,   34,   32,    5,   23,    2],\n",
       "       [   2, 5078,   38,   15,    3,   29,    9,    8,   83,    9],\n",
       "       [  50,   23, 4140,   72,   74,   18,   66,   53,  134,   10],\n",
       "       [  34,   28,  103, 4164,    3,  183,   25,   45,  100,   73],\n",
       "       [  14,   28,   26,    3, 4301,    6,   46,   32,   58,  166],\n",
       "       [  56,   35,   21,  125,   53, 3582,   99,   28,  138,   69],\n",
       "       [  34,   23,   32,    0,   35,   73, 4334,    6,   45,    0],\n",
       "       [  21,   24,   55,   23,   36,    5,    5, 4465,   13,  191],\n",
       "       [  35,  128,   76,  123,   11,  141,   45,   18, 3929,  123],\n",
       "       [  34,   31,   15,   70,  155,   37,    2,  143,   60, 4110]])"
      ]
     },
     "execution_count": 42,
     "metadata": {},
     "output_type": "execute_result"
    }
   ],
   "source": [
    "conf_mx"
   ]
  },
  {
   "cell_type": "code",
   "execution_count": 43,
   "metadata": {},
   "outputs": [
    {
     "data": {
      "text/plain": [
       "array([[4636],\n",
       "       [5274],\n",
       "       [4640],\n",
       "       [4758],\n",
       "       [4680],\n",
       "       [4206],\n",
       "       [4582],\n",
       "       [4838],\n",
       "       [4629],\n",
       "       [4657]])"
      ]
     },
     "execution_count": 43,
     "metadata": {},
     "output_type": "execute_result"
    }
   ],
   "source": [
    "row_sums"
   ]
  },
  {
   "cell_type": "code",
   "execution_count": 44,
   "metadata": {},
   "outputs": [
    {
     "data": {
      "text/plain": [
       "array([[9.70880069e-01, 4.31406385e-04, 4.31406385e-03, 2.37273512e-03,\n",
       "        1.29421915e-03, 7.33390854e-03, 6.90250216e-03, 1.07851596e-03,\n",
       "        4.96117343e-03, 4.31406385e-04],\n",
       "       [3.79218809e-04, 9.62836557e-01, 7.20515738e-03, 2.84414107e-03,\n",
       "        5.68828214e-04, 5.49867273e-03, 1.70648464e-03, 1.51687524e-03,\n",
       "        1.57375806e-02, 1.70648464e-03],\n",
       "       [1.07758621e-02, 4.95689655e-03, 8.92241379e-01, 1.55172414e-02,\n",
       "        1.59482759e-02, 3.87931034e-03, 1.42241379e-02, 1.14224138e-02,\n",
       "        2.88793103e-02, 2.15517241e-03],\n",
       "       [7.14585960e-03, 5.88482556e-03, 2.16477512e-02, 8.75157629e-01,\n",
       "        6.30517024e-04, 3.84615385e-02, 5.25430853e-03, 9.45775536e-03,\n",
       "        2.10172341e-02, 1.53425809e-02],\n",
       "       [2.99145299e-03, 5.98290598e-03, 5.55555556e-03, 6.41025641e-04,\n",
       "        9.19017094e-01, 1.28205128e-03, 9.82905983e-03, 6.83760684e-03,\n",
       "        1.23931624e-02, 3.54700855e-02],\n",
       "       [1.33143129e-02, 8.32144555e-03, 4.99286733e-03, 2.97194484e-02,\n",
       "        1.26010461e-02, 8.51640514e-01, 2.35378031e-02, 6.65715644e-03,\n",
       "        3.28102710e-02, 1.64051355e-02],\n",
       "       [7.42034046e-03, 5.01964208e-03, 6.98384985e-03, 0.00000000e+00,\n",
       "        7.63858577e-03, 1.59319075e-02, 9.45875164e-01, 1.30947185e-03,\n",
       "        9.82103885e-03, 0.00000000e+00],\n",
       "       [4.34063663e-03, 4.96072757e-03, 1.13683340e-02, 4.75403059e-03,\n",
       "        7.44109136e-03, 1.03348491e-03, 1.03348491e-03, 9.22902026e-01,\n",
       "        2.68706077e-03, 3.94791236e-02],\n",
       "       [7.56102830e-03, 2.76517606e-02, 1.64182329e-02, 2.65716137e-02,\n",
       "        2.37632318e-03, 3.04601426e-02, 9.72132210e-03, 3.88852884e-03,\n",
       "        8.48779434e-01, 2.65716137e-02],\n",
       "       [7.30083745e-03, 6.65664591e-03, 3.22095770e-03, 1.50311359e-02,\n",
       "        3.32832295e-02, 7.94502899e-03, 4.29461026e-04, 3.07064634e-02,\n",
       "        1.28838308e-02, 8.82542409e-01]])"
      ]
     },
     "execution_count": 44,
     "metadata": {},
     "output_type": "execute_result"
    }
   ],
   "source": [
    "norm_conf_mx"
   ]
  },
  {
   "cell_type": "code",
   "execution_count": 45,
   "metadata": {},
   "outputs": [],
   "source": [
    "np.fill_diagonal(norm_conf_mx, 0)"
   ]
  },
  {
   "cell_type": "code",
   "execution_count": 46,
   "metadata": {},
   "outputs": [
    {
     "data": {
      "text/plain": [
       "array([[0.        , 0.00043141, 0.00431406, 0.00237274, 0.00129422,\n",
       "        0.00733391, 0.0069025 , 0.00107852, 0.00496117, 0.00043141],\n",
       "       [0.00037922, 0.        , 0.00720516, 0.00284414, 0.00056883,\n",
       "        0.00549867, 0.00170648, 0.00151688, 0.01573758, 0.00170648],\n",
       "       [0.01077586, 0.0049569 , 0.        , 0.01551724, 0.01594828,\n",
       "        0.00387931, 0.01422414, 0.01142241, 0.02887931, 0.00215517],\n",
       "       [0.00714586, 0.00588483, 0.02164775, 0.        , 0.00063052,\n",
       "        0.03846154, 0.00525431, 0.00945776, 0.02101723, 0.01534258],\n",
       "       [0.00299145, 0.00598291, 0.00555556, 0.00064103, 0.        ,\n",
       "        0.00128205, 0.00982906, 0.00683761, 0.01239316, 0.03547009],\n",
       "       [0.01331431, 0.00832145, 0.00499287, 0.02971945, 0.01260105,\n",
       "        0.        , 0.0235378 , 0.00665716, 0.03281027, 0.01640514],\n",
       "       [0.00742034, 0.00501964, 0.00698385, 0.        , 0.00763859,\n",
       "        0.01593191, 0.        , 0.00130947, 0.00982104, 0.        ],\n",
       "       [0.00434064, 0.00496073, 0.01136833, 0.00475403, 0.00744109,\n",
       "        0.00103348, 0.00103348, 0.        , 0.00268706, 0.03947912],\n",
       "       [0.00756103, 0.02765176, 0.01641823, 0.02657161, 0.00237632,\n",
       "        0.03046014, 0.00972132, 0.00388853, 0.        , 0.02657161],\n",
       "       [0.00730084, 0.00665665, 0.00322096, 0.01503114, 0.03328323,\n",
       "        0.00794503, 0.00042946, 0.03070646, 0.01288383, 0.        ]])"
      ]
     },
     "execution_count": 46,
     "metadata": {},
     "output_type": "execute_result"
    }
   ],
   "source": [
    "norm_conf_mx"
   ]
  },
  {
   "cell_type": "code",
   "execution_count": 47,
   "metadata": {},
   "outputs": [
    {
     "data": {
      "image/png": "[encoded data removed]",
      "text/plain": [
       "<Figure size 288x288 with 1 Axes>"
      ]
     },
     "metadata": {
      "needs_background": "light"
     },
     "output_type": "display_data"
    }
   ],
   "source": [
    "plt.matshow(norm_conf_mx , cmap = plt.cm.gray)\n",
    "plt.show()"
   ]
  },
  {
   "cell_type": "code",
   "execution_count": 48,
   "metadata": {},
   "outputs": [],
   "source": [
    "from sklearn.neighbors import KNeighborsClassifier"
   ]
  },
  {
   "cell_type": "code",
   "execution_count": 49,
   "metadata": {},
   "outputs": [],
   "source": [
    "y_train_large = (y_train >= 7)\n",
    "y_train_odd = (y_train % 2 == 1)\n",
    "y_multilabel = np.c_[y_train_large, y_train_odd]"
   ]
  },
  {
   "cell_type": "code",
   "execution_count": 50,
   "metadata": {},
   "outputs": [
    {
     "data": {
      "text/plain": [
       "64334    3\n",
       "4550     2\n",
       "24098    2\n",
       "34222    1\n",
       "36016    2\n",
       "        ..\n",
       "37194    6\n",
       "6265     6\n",
       "54886    1\n",
       "860      0\n",
       "15795    0\n",
       "Name: class, Length: 46900, dtype: int64"
      ]
     },
     "execution_count": 50,
     "metadata": {},
     "output_type": "execute_result"
    }
   ],
   "source": [
    "y_train"
   ]
  },
  {
   "cell_type": "code",
   "execution_count": 51,
   "metadata": {},
   "outputs": [
    {
     "data": {
      "text/plain": [
       "64334    False\n",
       "4550     False\n",
       "24098    False\n",
       "34222    False\n",
       "36016    False\n",
       "         ...  \n",
       "37194    False\n",
       "6265     False\n",
       "54886    False\n",
       "860      False\n",
       "15795    False\n",
       "Name: class, Length: 46900, dtype: bool"
      ]
     },
     "execution_count": 51,
     "metadata": {},
     "output_type": "execute_result"
    }
   ],
   "source": [
    "y_train_large"
   ]
  },
  {
   "cell_type": "code",
   "execution_count": 52,
   "metadata": {},
   "outputs": [
    {
     "data": {
      "text/plain": [
       "64334     True\n",
       "4550     False\n",
       "24098    False\n",
       "34222     True\n",
       "36016    False\n",
       "         ...  \n",
       "37194    False\n",
       "6265     False\n",
       "54886     True\n",
       "860      False\n",
       "15795    False\n",
       "Name: class, Length: 46900, dtype: bool"
      ]
     },
     "execution_count": 52,
     "metadata": {},
     "output_type": "execute_result"
    }
   ],
   "source": [
    "y_train_odd"
   ]
  },
  {
   "cell_type": "code",
   "execution_count": 53,
   "metadata": {},
   "outputs": [
    {
     "data": {
      "text/plain": [
       "array([[False,  True],\n",
       "       [False, False],\n",
       "       [False, False],\n",
       "       ...,\n",
       "       [False,  True],\n",
       "       [False, False],\n",
       "       [False, False]])"
      ]
     },
     "execution_count": 53,
     "metadata": {},
     "output_type": "execute_result"
    }
   ],
   "source": [
    "y_multilabel"
   ]
  },
  {
   "cell_type": "code",
   "execution_count": 54,
   "metadata": {},
   "outputs": [
    {
     "data": {
      "text/plain": [
       "KNeighborsClassifier(algorithm='auto', leaf_size=30, metric='minkowski',\n",
       "                     metric_params=None, n_jobs=None, n_neighbors=5, p=2,\n",
       "                     weights='uniform')"
      ]
     },
     "execution_count": 54,
     "metadata": {},
     "output_type": "execute_result"
    }
   ],
   "source": [
    "knn_clf = KNeighborsClassifier()\n",
    "knn_clf.fit(X_train, y_multilabel)"
   ]
  },
  {
   "cell_type": "code",
   "execution_count": 55,
   "metadata": {},
   "outputs": [
    {
     "data": {
      "text/plain": [
       "array([[False,  True]])"
      ]
     },
     "execution_count": 55,
     "metadata": {},
     "output_type": "execute_result"
    }
   ],
   "source": [
    "knn_clf.predict([np.array(X_test.iloc[rd.randint(0,23100)])])"
   ]
  },
  {
   "cell_type": "code",
   "execution_count": 56,
   "metadata": {},
   "outputs": [],
   "source": [
    "y_train_knn_pred = cross_val_predict(knn_clf, X_train, y_multilabel, cv = 3, n_jobs = -1)"
   ]
  },
  {
   "cell_type": "code",
   "execution_count": 58,
   "metadata": {},
   "outputs": [],
   "source": [
    "from sklearn.metrics import f1_score"
   ]
  },
  {
   "cell_type": "code",
   "execution_count": 59,
   "metadata": {
    "scrolled": true
   },
   "outputs": [
    {
     "data": {
      "text/plain": [
       "0.9737972579649253"
      ]
     },
     "execution_count": 59,
     "metadata": {},
     "output_type": "execute_result"
    }
   ],
   "source": [
    "f1_score(y_multilabel, y_train_knn_pred, average = \"macro\")"
   ]
  },
  {
   "cell_type": "code",
   "execution_count": 75,
   "metadata": {},
   "outputs": [],
   "source": [
    "noise = np.random.randint(0,100,(len(X_train), 784))\n",
    "X_train_mod = X_train + noise\n",
    "\n",
    "noise = np.random.randint(0,100,(len(X_test), 784))\n",
    "X_test_mod = X_test + noise\n",
    "y_train_mod = X_train\n",
    "y_test_mod = X_test"
   ]
  },
  {
   "cell_type": "code",
   "execution_count": 92,
   "metadata": {},
   "outputs": [
    {
     "data": {
      "text/html": [
       "<div>\n",
       "<style scoped>\n",
       "    .dataframe tbody tr th:only-of-type {\n",
       "        vertical-align: middle;\n",
       "    }\n",
       "\n",
       "    .dataframe tbody tr th {\n",
       "        vertical-align: top;\n",
       "    }\n",
       "\n",
       "    .dataframe thead th {\n",
       "        text-align: right;\n",
       "    }\n",
       "</style>\n",
       "<table border=\"1\" class=\"dataframe\">\n",
       "  <thead>\n",
       "    <tr style=\"text-align: right;\">\n",
       "      <th></th>\n",
       "      <th>pixel1</th>\n",
       "      <th>pixel2</th>\n",
       "      <th>pixel3</th>\n",
       "      <th>pixel4</th>\n",
       "      <th>pixel5</th>\n",
       "      <th>pixel6</th>\n",
       "      <th>pixel7</th>\n",
       "      <th>pixel8</th>\n",
       "      <th>pixel9</th>\n",
       "      <th>pixel10</th>\n",
       "      <th>...</th>\n",
       "      <th>pixel775</th>\n",
       "      <th>pixel776</th>\n",
       "      <th>pixel777</th>\n",
       "      <th>pixel778</th>\n",
       "      <th>pixel779</th>\n",
       "      <th>pixel780</th>\n",
       "      <th>pixel781</th>\n",
       "      <th>pixel782</th>\n",
       "      <th>pixel783</th>\n",
       "      <th>pixel784</th>\n",
       "    </tr>\n",
       "  </thead>\n",
       "  <tbody>\n",
       "    <tr>\n",
       "      <th>46730</th>\n",
       "      <td>38</td>\n",
       "      <td>33</td>\n",
       "      <td>66</td>\n",
       "      <td>48</td>\n",
       "      <td>28</td>\n",
       "      <td>46</td>\n",
       "      <td>27</td>\n",
       "      <td>58</td>\n",
       "      <td>86</td>\n",
       "      <td>29</td>\n",
       "      <td>...</td>\n",
       "      <td>45</td>\n",
       "      <td>74</td>\n",
       "      <td>73</td>\n",
       "      <td>32</td>\n",
       "      <td>13</td>\n",
       "      <td>81</td>\n",
       "      <td>86</td>\n",
       "      <td>32</td>\n",
       "      <td>0</td>\n",
       "      <td>31</td>\n",
       "    </tr>\n",
       "    <tr>\n",
       "      <th>48393</th>\n",
       "      <td>79</td>\n",
       "      <td>37</td>\n",
       "      <td>55</td>\n",
       "      <td>74</td>\n",
       "      <td>0</td>\n",
       "      <td>58</td>\n",
       "      <td>16</td>\n",
       "      <td>94</td>\n",
       "      <td>25</td>\n",
       "      <td>92</td>\n",
       "      <td>...</td>\n",
       "      <td>79</td>\n",
       "      <td>94</td>\n",
       "      <td>83</td>\n",
       "      <td>2</td>\n",
       "      <td>29</td>\n",
       "      <td>38</td>\n",
       "      <td>67</td>\n",
       "      <td>93</td>\n",
       "      <td>41</td>\n",
       "      <td>80</td>\n",
       "    </tr>\n",
       "    <tr>\n",
       "      <th>41416</th>\n",
       "      <td>47</td>\n",
       "      <td>99</td>\n",
       "      <td>22</td>\n",
       "      <td>93</td>\n",
       "      <td>68</td>\n",
       "      <td>39</td>\n",
       "      <td>55</td>\n",
       "      <td>73</td>\n",
       "      <td>95</td>\n",
       "      <td>30</td>\n",
       "      <td>...</td>\n",
       "      <td>18</td>\n",
       "      <td>66</td>\n",
       "      <td>87</td>\n",
       "      <td>35</td>\n",
       "      <td>15</td>\n",
       "      <td>35</td>\n",
       "      <td>53</td>\n",
       "      <td>50</td>\n",
       "      <td>53</td>\n",
       "      <td>55</td>\n",
       "    </tr>\n",
       "    <tr>\n",
       "      <th>34506</th>\n",
       "      <td>37</td>\n",
       "      <td>43</td>\n",
       "      <td>65</td>\n",
       "      <td>11</td>\n",
       "      <td>69</td>\n",
       "      <td>79</td>\n",
       "      <td>59</td>\n",
       "      <td>7</td>\n",
       "      <td>22</td>\n",
       "      <td>70</td>\n",
       "      <td>...</td>\n",
       "      <td>16</td>\n",
       "      <td>68</td>\n",
       "      <td>76</td>\n",
       "      <td>28</td>\n",
       "      <td>45</td>\n",
       "      <td>17</td>\n",
       "      <td>55</td>\n",
       "      <td>96</td>\n",
       "      <td>61</td>\n",
       "      <td>36</td>\n",
       "    </tr>\n",
       "    <tr>\n",
       "      <th>43725</th>\n",
       "      <td>51</td>\n",
       "      <td>47</td>\n",
       "      <td>6</td>\n",
       "      <td>42</td>\n",
       "      <td>52</td>\n",
       "      <td>44</td>\n",
       "      <td>5</td>\n",
       "      <td>27</td>\n",
       "      <td>1</td>\n",
       "      <td>45</td>\n",
       "      <td>...</td>\n",
       "      <td>8</td>\n",
       "      <td>61</td>\n",
       "      <td>61</td>\n",
       "      <td>48</td>\n",
       "      <td>27</td>\n",
       "      <td>18</td>\n",
       "      <td>91</td>\n",
       "      <td>96</td>\n",
       "      <td>29</td>\n",
       "      <td>93</td>\n",
       "    </tr>\n",
       "    <tr>\n",
       "      <th>...</th>\n",
       "      <td>...</td>\n",
       "      <td>...</td>\n",
       "      <td>...</td>\n",
       "      <td>...</td>\n",
       "      <td>...</td>\n",
       "      <td>...</td>\n",
       "      <td>...</td>\n",
       "      <td>...</td>\n",
       "      <td>...</td>\n",
       "      <td>...</td>\n",
       "      <td>...</td>\n",
       "      <td>...</td>\n",
       "      <td>...</td>\n",
       "      <td>...</td>\n",
       "      <td>...</td>\n",
       "      <td>...</td>\n",
       "      <td>...</td>\n",
       "      <td>...</td>\n",
       "      <td>...</td>\n",
       "      <td>...</td>\n",
       "      <td>...</td>\n",
       "    </tr>\n",
       "    <tr>\n",
       "      <th>34382</th>\n",
       "      <td>69</td>\n",
       "      <td>55</td>\n",
       "      <td>55</td>\n",
       "      <td>68</td>\n",
       "      <td>10</td>\n",
       "      <td>90</td>\n",
       "      <td>91</td>\n",
       "      <td>94</td>\n",
       "      <td>33</td>\n",
       "      <td>14</td>\n",
       "      <td>...</td>\n",
       "      <td>31</td>\n",
       "      <td>90</td>\n",
       "      <td>5</td>\n",
       "      <td>55</td>\n",
       "      <td>51</td>\n",
       "      <td>31</td>\n",
       "      <td>36</td>\n",
       "      <td>58</td>\n",
       "      <td>38</td>\n",
       "      <td>43</td>\n",
       "    </tr>\n",
       "    <tr>\n",
       "      <th>65822</th>\n",
       "      <td>17</td>\n",
       "      <td>8</td>\n",
       "      <td>56</td>\n",
       "      <td>32</td>\n",
       "      <td>17</td>\n",
       "      <td>45</td>\n",
       "      <td>54</td>\n",
       "      <td>74</td>\n",
       "      <td>90</td>\n",
       "      <td>12</td>\n",
       "      <td>...</td>\n",
       "      <td>61</td>\n",
       "      <td>40</td>\n",
       "      <td>6</td>\n",
       "      <td>28</td>\n",
       "      <td>78</td>\n",
       "      <td>49</td>\n",
       "      <td>28</td>\n",
       "      <td>23</td>\n",
       "      <td>39</td>\n",
       "      <td>63</td>\n",
       "    </tr>\n",
       "    <tr>\n",
       "      <th>4116</th>\n",
       "      <td>47</td>\n",
       "      <td>84</td>\n",
       "      <td>37</td>\n",
       "      <td>28</td>\n",
       "      <td>74</td>\n",
       "      <td>42</td>\n",
       "      <td>2</td>\n",
       "      <td>70</td>\n",
       "      <td>23</td>\n",
       "      <td>22</td>\n",
       "      <td>...</td>\n",
       "      <td>67</td>\n",
       "      <td>45</td>\n",
       "      <td>14</td>\n",
       "      <td>87</td>\n",
       "      <td>43</td>\n",
       "      <td>0</td>\n",
       "      <td>60</td>\n",
       "      <td>3</td>\n",
       "      <td>0</td>\n",
       "      <td>30</td>\n",
       "    </tr>\n",
       "    <tr>\n",
       "      <th>31281</th>\n",
       "      <td>76</td>\n",
       "      <td>15</td>\n",
       "      <td>5</td>\n",
       "      <td>4</td>\n",
       "      <td>97</td>\n",
       "      <td>5</td>\n",
       "      <td>49</td>\n",
       "      <td>60</td>\n",
       "      <td>24</td>\n",
       "      <td>83</td>\n",
       "      <td>...</td>\n",
       "      <td>34</td>\n",
       "      <td>34</td>\n",
       "      <td>84</td>\n",
       "      <td>55</td>\n",
       "      <td>0</td>\n",
       "      <td>20</td>\n",
       "      <td>57</td>\n",
       "      <td>73</td>\n",
       "      <td>8</td>\n",
       "      <td>50</td>\n",
       "    </tr>\n",
       "    <tr>\n",
       "      <th>34561</th>\n",
       "      <td>26</td>\n",
       "      <td>32</td>\n",
       "      <td>58</td>\n",
       "      <td>97</td>\n",
       "      <td>0</td>\n",
       "      <td>71</td>\n",
       "      <td>61</td>\n",
       "      <td>69</td>\n",
       "      <td>9</td>\n",
       "      <td>33</td>\n",
       "      <td>...</td>\n",
       "      <td>55</td>\n",
       "      <td>18</td>\n",
       "      <td>54</td>\n",
       "      <td>46</td>\n",
       "      <td>47</td>\n",
       "      <td>84</td>\n",
       "      <td>31</td>\n",
       "      <td>66</td>\n",
       "      <td>25</td>\n",
       "      <td>87</td>\n",
       "    </tr>\n",
       "  </tbody>\n",
       "</table>\n",
       "<p>23100 rows × 784 columns</p>\n",
       "</div>"
      ],
      "text/plain": [
       "       pixel1  pixel2  pixel3  pixel4  pixel5  pixel6  pixel7  pixel8  pixel9  \\\n",
       "46730      38      33      66      48      28      46      27      58      86   \n",
       "48393      79      37      55      74       0      58      16      94      25   \n",
       "41416      47      99      22      93      68      39      55      73      95   \n",
       "34506      37      43      65      11      69      79      59       7      22   \n",
       "43725      51      47       6      42      52      44       5      27       1   \n",
       "...       ...     ...     ...     ...     ...     ...     ...     ...     ...   \n",
       "34382      69      55      55      68      10      90      91      94      33   \n",
       "65822      17       8      56      32      17      45      54      74      90   \n",
       "4116       47      84      37      28      74      42       2      70      23   \n",
       "31281      76      15       5       4      97       5      49      60      24   \n",
       "34561      26      32      58      97       0      71      61      69       9   \n",
       "\n",
       "       pixel10  ...  pixel775  pixel776  pixel777  pixel778  pixel779  \\\n",
       "46730       29  ...        45        74        73        32        13   \n",
       "48393       92  ...        79        94        83         2        29   \n",
       "41416       30  ...        18        66        87        35        15   \n",
       "34506       70  ...        16        68        76        28        45   \n",
       "43725       45  ...         8        61        61        48        27   \n",
       "...        ...  ...       ...       ...       ...       ...       ...   \n",
       "34382       14  ...        31        90         5        55        51   \n",
       "65822       12  ...        61        40         6        28        78   \n",
       "4116        22  ...        67        45        14        87        43   \n",
       "31281       83  ...        34        34        84        55         0   \n",
       "34561       33  ...        55        18        54        46        47   \n",
       "\n",
       "       pixel780  pixel781  pixel782  pixel783  pixel784  \n",
       "46730        81        86        32         0        31  \n",
       "48393        38        67        93        41        80  \n",
       "41416        35        53        50        53        55  \n",
       "34506        17        55        96        61        36  \n",
       "43725        18        91        96        29        93  \n",
       "...         ...       ...       ...       ...       ...  \n",
       "34382        31        36        58        38        43  \n",
       "65822        49        28        23        39        63  \n",
       "4116          0        60         3         0        30  \n",
       "31281        20        57        73         8        50  \n",
       "34561        84        31        66        25        87  \n",
       "\n",
       "[23100 rows x 784 columns]"
      ]
     },
     "execution_count": 92,
     "metadata": {},
     "output_type": "execute_result"
    }
   ],
   "source": [
    "X_test_mod"
   ]
  },
  {
   "cell_type": "code",
   "execution_count": 95,
   "metadata": {},
   "outputs": [
    {
     "data": {
      "image/png": "[encoded data removed]",
      "text/plain": [
       "<Figure size 432x288 with 2 Axes>"
      ]
     },
     "metadata": {
      "needs_background": "light"
     },
     "output_type": "display_data"
    }
   ],
   "source": [
    "some_index = 5501\n",
    "plt.subplot(121); plot_digit(np.array(X_test_mod.iloc[2020]))\n",
    "plt.subplot(122); plot_digit(np.array(y_test_mod.iloc[2020]))\n",
    "plt.show()"
   ]
  },
  {
   "cell_type": "code",
   "execution_count": 84,
   "metadata": {},
   "outputs": [
    {
     "data": {
      "image/png": "[encoded data removed]",
      "text/plain": [
       "<Figure size 432x288 with 1 Axes>"
      ]
     },
     "metadata": {
      "needs_background": "light"
     },
     "output_type": "display_data"
    }
   ],
   "source": [
    "knn_clf.fit(X_train_mod, y_train_mod)\n",
    "clean_digit = knn_clf.predict(test)\n",
    "plot_digit(np.array(y_test_mod.iloc[2020]))"
   ]
  },
  {
   "cell_type": "code",
   "execution_count": 80,
   "metadata": {},
   "outputs": [],
   "source": [
    "def plot_digits(instances, images_per_row=10, **options):\n",
    "    size = 28\n",
    "    images_per_row = min(len(instances), images_per_row)\n",
    "    images = [instance.reshape(size,size) for instance in instances]\n",
    "    n_rows = (len(instances) - 1) // images_per_row + 1\n",
    "    row_images = []\n",
    "    n_empty = n_rows * images_per_row - len(instances)\n",
    "    images.append(np.zeros((size, size * n_empty)))\n",
    "    for row in range(n_rows):\n",
    "        rimages = images[row * images_per_row : (row + 1) * images_per_row]\n",
    "        row_images.append(np.concatenate(rimages, axis=1))\n",
    "    image = np.concatenate(row_images, axis=0)\n",
    "    plt.imshow(image, cmap = matplotlib.cm.binary, **options)\n",
    "    plt.axis(\"off\")"
   ]
  },
  {
   "cell_type": "code",
   "execution_count": 83,
   "metadata": {},
   "outputs": [],
   "source": [
    "def plot_digit(data):\n",
    "    image = data.reshape(28, 28)\n",
    "    plt.imshow(image, cmap = matplotlib.cm.binary,\n",
    "               interpolation=\"nearest\")\n",
    "    plt.axis(\"off\")"
   ]
  },
  {
   "cell_type": "code",
   "execution_count": null,
   "metadata": {},
   "outputs": [],
   "source": []
  }
 ],
 "metadata": {
  "kernelspec": {
   "display_name": "Python 3",
   "language": "python",
   "name": "python3"
  },
  "language_info": {
   "codemirror_mode": {
    "name": "ipython",
    "version": 3
   },
   "file_extension": ".py",
   "mimetype": "text/x-python",
   "name": "python",
   "nbconvert_exporter": "python",
   "pygments_lexer": "ipython3",
   "version": "3.7.6"
  }
 },
 "nbformat": 4,
 "nbformat_minor": 4
}
